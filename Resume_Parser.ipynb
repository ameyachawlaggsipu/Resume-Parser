{
  "nbformat": 4,
  "nbformat_minor": 0,
  "metadata": {
    "colab": {
      "name": "Resume Parser.ipynb",
      "provenance": [],
      "collapsed_sections": []
    },
    "kernelspec": {
      "name": "python3",
      "display_name": "Python 3"
    },
    "language_info": {
      "name": "python"
    }
  },
  "cells": [
    {
      "cell_type": "code",
      "source": [
        "from resume_parser import resumeparse #Import library\n",
        "data = resumeparse.read_file('Resume.docx (1).pdf') # Read the pdf\n",
        "print(data)"
      ],
      "metadata": {
        "colab": {
          "base_uri": "https://localhost:8080/"
        },
        "id": "Fs_ZmNWEh7dH",
        "outputId": "45b3d01b-f9c1-4f0d-f1cd-79d288099366"
      },
      "execution_count": 3,
      "outputs": [
        {
          "output_type": "stream",
          "name": "stderr",
          "text": [
            "/usr/local/lib/python3.7/dist-packages/spacy/util.py:275: UserWarning: [W031] Model 'en_training' (0.0.0) requires spaCy v2.2 and is incompatible with the current spaCy version (2.3.5). This may lead to unexpected results or runtime errors. To resolve this, download a newer compatible model or retrain your custom model with the current spaCy version. For more details and available updates, run: python -m spacy validate\n",
            "  warnings.warn(warn_msg)\n",
            "2021-12-27 14:25:55,161 [MainThread  ] [INFO ]  Retrieving http://search.maven.org/remotecontent?filepath=org/apache/tika/tika-server/1.24/tika-server-1.24.jar to /tmp/tika-server.jar.\n",
            "2021-12-27 14:25:55,677 [MainThread  ] [INFO ]  Retrieving http://search.maven.org/remotecontent?filepath=org/apache/tika/tika-server/1.24/tika-server-1.24.jar.md5 to /tmp/tika-server.jar.md5.\n",
            "2021-12-27 14:25:56,155 [MainThread  ] [WARNI]  Failed to see startup log message; retrying...\n"
          ]
        },
        {
          "output_type": "stream",
          "name": "stdout",
          "text": [
            "{'email': 'ameya.chawla.ml@gmail.com', 'phone': '+91 9560117995', 'name': 'Ameya Chawla', 'total_exp': 1, 'university': [], 'designition': ['social media analyst', 'media analyst', 'social media marketing analyst', 'marketing analyst', 'content writer', 'classifier', 'senior editor', 'magazine designer'], 'degree': [], 'skills': ['Machine Learning', 'Backend', 'Development(Flask)', 'Python', 'Java', 'C++', 'C', 'Awards', 'Guru Tegh Bahadur Institute of Technology', ' Rajouri Garden', '—Bachelor of Technology in C.S.E', 'Class 2022', 'I am currently pursuing my bachelors of technology in Computer Science', 'and Engineering with CGPA of 9.189 .'], 'Companies worked at': ['Residual Neural', 'Prisma Art Society Write']}\n"
          ]
        }
      ]
    },
    {
      "cell_type": "code",
      "source": [
        ""
      ],
      "metadata": {
        "id": "RKqxq5s3iCkI"
      },
      "execution_count": null,
      "outputs": []
    }
  ]
}